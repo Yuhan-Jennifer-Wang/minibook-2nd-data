{
 "cells": [
  {
   "cell_type": "markdown",
   "metadata": {
    "collapsed": true
   },
   "source": [
    "Markdown basics (http://daringfireball.net/projects/markdown/basics)\n",
    "# NY Taxi Rides - Group 9\n",
    "\n",
    "### Data Provided by the New York City Taxi and Limousine Commission.\n",
    "Full dataset is 170 million taxi trips, 100GB of free space. Our subset is 0.5% of all trips, about 850,000 rides. Download the dataset from Cyrille Rossant on GitHub: https://github.com/ipython-books/minibook-2nd-data (https://github.com/ipython-books/minibook-2nd-data) NYC Taxi & Limousine Commission website (http://www.nyc.gov/html/tlc/html/about/trip_record_data.shtml) NYC Gov data description website (http://www.nyc.gov/html/tlc/downloads/pdf/data_dictionary_trip_records_yellow.pdf)\n"
   ]
  },
  {
   "cell_type": "code",
   "execution_count": 3,
   "metadata": {},
   "outputs": [],
   "source": [
    "import numpy as np \n",
    "import pandas as pd \n",
    "import matplotlib.pyplot as plt \n",
    "%matplotlib inline"
   ]
  },
  {
   "cell_type": "code",
   "execution_count": 4,
   "metadata": {},
   "outputs": [
    {
     "data": {
      "text/plain": [
       "'C:\\\\Users\\\\Kevin\\\\OneDrive\\\\桌面\\\\Columbia\\\\Python for data analytics'"
      ]
     },
     "execution_count": 4,
     "metadata": {},
     "output_type": "execute_result"
    }
   ],
   "source": [
    "###CHECK WORKING DIRECTORY\n",
    "import os\n",
    "os.getcwd()"
   ]
  },
  {
   "cell_type": "code",
   "execution_count": null,
   "metadata": {},
   "outputs": [],
   "source": [
    "####Please upload the data and display data columns, \n",
    "####number of rows, variable types, and numeric statistics + categorical variable frequencies."
   ]
  },
  {
   "cell_type": "code",
   "execution_count": 5,
   "metadata": {},
   "outputs": [],
   "source": [
    "#put your path here.\n",
    "###GET DATA PATH \n",
    "data_filename = \"C:\\\\Users\\\\Kevin\\\\OneDrive\\\\桌面\\\\Columbia\\\\Python for data analytics\\\\nyc_data.csv\""
   ]
  },
  {
   "cell_type": "code",
   "execution_count": 6,
   "metadata": {},
   "outputs": [],
   "source": [
    "data = pd.read_csv(data_filename, \n",
    "                   parse_dates=['pickup_datetime', 'dropoff_datetime'] ,engine = 'python')\n",
    "#pd.read_csv?\n",
    "###READ DATA"
   ]
  },
  {
   "cell_type": "markdown",
   "metadata": {},
   "source": [
    "head() method of DataFrames displays the first three lines of the table"
   ]
  },
  {
   "cell_type": "code",
   "execution_count": 7,
   "metadata": {},
   "outputs": [
    {
     "data": {
      "text/html": [
       "<div>\n",
       "<style scoped>\n",
       "    .dataframe tbody tr th:only-of-type {\n",
       "        vertical-align: middle;\n",
       "    }\n",
       "\n",
       "    .dataframe tbody tr th {\n",
       "        vertical-align: top;\n",
       "    }\n",
       "\n",
       "    .dataframe thead th {\n",
       "        text-align: right;\n",
       "    }\n",
       "</style>\n",
       "<table border=\"1\" class=\"dataframe\">\n",
       "  <thead>\n",
       "    <tr style=\"text-align: right;\">\n",
       "      <th></th>\n",
       "      <th>medallion</th>\n",
       "      <th>hack_license</th>\n",
       "      <th>vendor_id</th>\n",
       "      <th>rate_code</th>\n",
       "      <th>store_and_fwd_flag</th>\n",
       "      <th>pickup_datetime</th>\n",
       "      <th>dropoff_datetime</th>\n",
       "      <th>passenger_count</th>\n",
       "      <th>trip_time_in_secs</th>\n",
       "      <th>trip_distance</th>\n",
       "      <th>pickup_longitude</th>\n",
       "      <th>pickup_latitude</th>\n",
       "      <th>dropoff_longitude</th>\n",
       "      <th>dropoff_latitude</th>\n",
       "    </tr>\n",
       "  </thead>\n",
       "  <tbody>\n",
       "    <tr>\n",
       "      <th>0</th>\n",
       "      <td>76942C3205E17D7E7FE5A9F709D16434</td>\n",
       "      <td>25BA06A87905667AA1FE5990E33F0E2E</td>\n",
       "      <td>VTS</td>\n",
       "      <td>1</td>\n",
       "      <td>NaN</td>\n",
       "      <td>2013-01-01 00:00:00</td>\n",
       "      <td>2013-01-01 00:05:00</td>\n",
       "      <td>3</td>\n",
       "      <td>300</td>\n",
       "      <td>0.61</td>\n",
       "      <td>-73.955925</td>\n",
       "      <td>40.781887</td>\n",
       "      <td>-73.963181</td>\n",
       "      <td>40.777832</td>\n",
       "    </tr>\n",
       "    <tr>\n",
       "      <th>1</th>\n",
       "      <td>517C6B330DBB3F055D007B07512628B3</td>\n",
       "      <td>2C19FBEE1A6E05612EFE4C958C14BC7F</td>\n",
       "      <td>VTS</td>\n",
       "      <td>1</td>\n",
       "      <td>NaN</td>\n",
       "      <td>2013-01-01 00:05:00</td>\n",
       "      <td>2013-01-01 00:21:00</td>\n",
       "      <td>1</td>\n",
       "      <td>960</td>\n",
       "      <td>3.28</td>\n",
       "      <td>-74.005501</td>\n",
       "      <td>40.745735</td>\n",
       "      <td>-73.964943</td>\n",
       "      <td>40.755722</td>\n",
       "    </tr>\n",
       "    <tr>\n",
       "      <th>2</th>\n",
       "      <td>ED15611F168E41B33619C83D900FE266</td>\n",
       "      <td>754AEBD7C80DA17BA1D81D89FB6F4D1D</td>\n",
       "      <td>CMT</td>\n",
       "      <td>1</td>\n",
       "      <td>N</td>\n",
       "      <td>2013-01-01 00:05:52</td>\n",
       "      <td>2013-01-01 00:12:18</td>\n",
       "      <td>1</td>\n",
       "      <td>386</td>\n",
       "      <td>1.50</td>\n",
       "      <td>-73.969955</td>\n",
       "      <td>40.799770</td>\n",
       "      <td>-73.954567</td>\n",
       "      <td>40.787392</td>\n",
       "    </tr>\n",
       "    <tr>\n",
       "      <th>3</th>\n",
       "      <td>B33E704CC189E80C9671230C16527BBC</td>\n",
       "      <td>6789C77E1CBDC850C450D72204702976</td>\n",
       "      <td>VTS</td>\n",
       "      <td>1</td>\n",
       "      <td>NaN</td>\n",
       "      <td>2013-01-01 00:06:00</td>\n",
       "      <td>2013-01-01 00:06:00</td>\n",
       "      <td>6</td>\n",
       "      <td>0</td>\n",
       "      <td>0.00</td>\n",
       "      <td>-73.991432</td>\n",
       "      <td>40.755081</td>\n",
       "      <td>-73.991417</td>\n",
       "      <td>40.755085</td>\n",
       "    </tr>\n",
       "    <tr>\n",
       "      <th>4</th>\n",
       "      <td>BD5CC6A22D05EB2D5C8235526A2A4276</td>\n",
       "      <td>5E8F2C93B5220A922699FEBAFC2F7A54</td>\n",
       "      <td>VTS</td>\n",
       "      <td>1</td>\n",
       "      <td>NaN</td>\n",
       "      <td>2013-01-01 00:06:00</td>\n",
       "      <td>2013-01-01 00:12:00</td>\n",
       "      <td>2</td>\n",
       "      <td>360</td>\n",
       "      <td>1.31</td>\n",
       "      <td>-73.966225</td>\n",
       "      <td>40.773716</td>\n",
       "      <td>-73.955399</td>\n",
       "      <td>40.782597</td>\n",
       "    </tr>\n",
       "  </tbody>\n",
       "</table>\n",
       "</div>"
      ],
      "text/plain": [
       "                          medallion                      hack_license  \\\n",
       "0  76942C3205E17D7E7FE5A9F709D16434  25BA06A87905667AA1FE5990E33F0E2E   \n",
       "1  517C6B330DBB3F055D007B07512628B3  2C19FBEE1A6E05612EFE4C958C14BC7F   \n",
       "2  ED15611F168E41B33619C83D900FE266  754AEBD7C80DA17BA1D81D89FB6F4D1D   \n",
       "3  B33E704CC189E80C9671230C16527BBC  6789C77E1CBDC850C450D72204702976   \n",
       "4  BD5CC6A22D05EB2D5C8235526A2A4276  5E8F2C93B5220A922699FEBAFC2F7A54   \n",
       "\n",
       "  vendor_id  rate_code store_and_fwd_flag     pickup_datetime  \\\n",
       "0       VTS          1                NaN 2013-01-01 00:00:00   \n",
       "1       VTS          1                NaN 2013-01-01 00:05:00   \n",
       "2       CMT          1                  N 2013-01-01 00:05:52   \n",
       "3       VTS          1                NaN 2013-01-01 00:06:00   \n",
       "4       VTS          1                NaN 2013-01-01 00:06:00   \n",
       "\n",
       "     dropoff_datetime  passenger_count  trip_time_in_secs  trip_distance  \\\n",
       "0 2013-01-01 00:05:00                3                300           0.61   \n",
       "1 2013-01-01 00:21:00                1                960           3.28   \n",
       "2 2013-01-01 00:12:18                1                386           1.50   \n",
       "3 2013-01-01 00:06:00                6                  0           0.00   \n",
       "4 2013-01-01 00:12:00                2                360           1.31   \n",
       "\n",
       "   pickup_longitude  pickup_latitude  dropoff_longitude  dropoff_latitude  \n",
       "0        -73.955925        40.781887         -73.963181         40.777832  \n",
       "1        -74.005501        40.745735         -73.964943         40.755722  \n",
       "2        -73.969955        40.799770         -73.954567         40.787392  \n",
       "3        -73.991432        40.755081         -73.991417         40.755085  \n",
       "4        -73.966225        40.773716         -73.955399         40.782597  "
      ]
     },
     "execution_count": 7,
     "metadata": {},
     "output_type": "execute_result"
    }
   ],
   "source": [
    "data.head()"
   ]
  },
  {
   "cell_type": "markdown",
   "metadata": {},
   "source": [
    "#### Display data columns and number of rows"
   ]
  },
  {
   "cell_type": "code",
   "execution_count": 8,
   "metadata": {},
   "outputs": [
    {
     "name": "stdout",
     "output_type": "stream",
     "text": [
      "['medallion' 'hack_license' 'vendor_id' 'rate_code' 'store_and_fwd_flag'\n",
      " 'pickup_datetime' 'dropoff_datetime' 'passenger_count'\n",
      " 'trip_time_in_secs' 'trip_distance' 'pickup_longitude' 'pickup_latitude'\n",
      " 'dropoff_longitude' 'dropoff_latitude'] \n",
      " 14\n",
      "846945\n"
     ]
    }
   ],
   "source": [
    "##GET DATA COLUMNS: 14 variables\n",
    "print(data.columns.values,'\\n',len(data.columns.values))\n",
    "##GET NUMBER OF ROWS: 846945 total records\n",
    "print(len(data))"
   ]
  },
  {
   "cell_type": "markdown",
   "metadata": {},
   "source": [
    "####  Display variable types"
   ]
  },
  {
   "cell_type": "code",
   "execution_count": 9,
   "metadata": {},
   "outputs": [
    {
     "name": "stdout",
     "output_type": "stream",
     "text": [
      "medallion                     object\n",
      "hack_license                  object\n",
      "vendor_id                     object\n",
      "rate_code                      int64\n",
      "store_and_fwd_flag            object\n",
      "pickup_datetime       datetime64[ns]\n",
      "dropoff_datetime      datetime64[ns]\n",
      "passenger_count                int64\n",
      "trip_time_in_secs              int64\n",
      "trip_distance                float64\n",
      "pickup_longitude             float64\n",
      "pickup_latitude              float64\n",
      "dropoff_longitude            float64\n",
      "dropoff_latitude             float64\n",
      "dtype: object\n",
      "int64             3\n",
      "datetime64[ns]    2\n",
      "float64           5\n",
      "object            4\n",
      "dtype: int64\n"
     ]
    }
   ],
   "source": [
    "###GET VARIABLE TYPES \n",
    "print(data.dtypes)\n",
    "###COUNT VARIABLE TYPES: 4 OBJECT, 3 INT64, 2 DATETIME64, 5 FLOAT64 \n",
    "print(data.dtypes.groupby(data.dtypes).count())"
   ]
  },
  {
   "cell_type": "code",
   "execution_count": 10,
   "metadata": {},
   "outputs": [
    {
     "name": "stdout",
     "output_type": "stream",
     "text": [
      "<class 'pandas.core.frame.DataFrame'>\n",
      "RangeIndex: 846945 entries, 0 to 846944\n",
      "Data columns (total 14 columns):\n",
      "medallion             846945 non-null object\n",
      "hack_license          846945 non-null object\n",
      "vendor_id             846945 non-null object\n",
      "rate_code             846945 non-null int64\n",
      "store_and_fwd_flag    424577 non-null object\n",
      "pickup_datetime       846945 non-null datetime64[ns]\n",
      "dropoff_datetime      846945 non-null datetime64[ns]\n",
      "passenger_count       846945 non-null int64\n",
      "trip_time_in_secs     846945 non-null int64\n",
      "trip_distance         846945 non-null float64\n",
      "pickup_longitude      846945 non-null float64\n",
      "pickup_latitude       846945 non-null float64\n",
      "dropoff_longitude     846945 non-null float64\n",
      "dropoff_latitude      846945 non-null float64\n",
      "dtypes: datetime64[ns](2), float64(5), int64(3), object(4)\n",
      "memory usage: 90.5+ MB\n"
     ]
    }
   ],
   "source": [
    "###WE CAN CALL PD.INFO TO SUMMARIZE\n",
    "data.info()"
   ]
  },
  {
   "cell_type": "markdown",
   "metadata": {},
   "source": [
    "#### Display numeric statistics"
   ]
  },
  {
   "cell_type": "code",
   "execution_count": 74,
   "metadata": {
    "scrolled": true
   },
   "outputs": [
    {
     "data": {
      "text/html": [
       "<div>\n",
       "<style scoped>\n",
       "    .dataframe tbody tr th:only-of-type {\n",
       "        vertical-align: middle;\n",
       "    }\n",
       "\n",
       "    .dataframe tbody tr th {\n",
       "        vertical-align: top;\n",
       "    }\n",
       "\n",
       "    .dataframe thead th {\n",
       "        text-align: right;\n",
       "    }\n",
       "</style>\n",
       "<table border=\"1\" class=\"dataframe\">\n",
       "  <thead>\n",
       "    <tr style=\"text-align: right;\">\n",
       "      <th></th>\n",
       "      <th>count</th>\n",
       "      <th>mean</th>\n",
       "      <th>std</th>\n",
       "      <th>min</th>\n",
       "      <th>25%</th>\n",
       "      <th>50%</th>\n",
       "      <th>75%</th>\n",
       "      <th>max</th>\n",
       "    </tr>\n",
       "  </thead>\n",
       "  <tbody>\n",
       "    <tr>\n",
       "      <th>rate_code</th>\n",
       "      <td>846945.0</td>\n",
       "      <td>1.026123</td>\n",
       "      <td>0.223480</td>\n",
       "      <td>0.000000</td>\n",
       "      <td>1.000000</td>\n",
       "      <td>1.000000</td>\n",
       "      <td>1.000000</td>\n",
       "      <td>6.000000e+00</td>\n",
       "    </tr>\n",
       "    <tr>\n",
       "      <th>passenger_count</th>\n",
       "      <td>846945.0</td>\n",
       "      <td>1.710272</td>\n",
       "      <td>1.375266</td>\n",
       "      <td>0.000000</td>\n",
       "      <td>1.000000</td>\n",
       "      <td>1.000000</td>\n",
       "      <td>2.000000</td>\n",
       "      <td>6.000000e+00</td>\n",
       "    </tr>\n",
       "    <tr>\n",
       "      <th>trip_time_in_secs</th>\n",
       "      <td>846945.0</td>\n",
       "      <td>812.523879</td>\n",
       "      <td>16098.305145</td>\n",
       "      <td>-10.000000</td>\n",
       "      <td>361.000000</td>\n",
       "      <td>600.000000</td>\n",
       "      <td>960.000000</td>\n",
       "      <td>4.294796e+06</td>\n",
       "    </tr>\n",
       "    <tr>\n",
       "      <th>trip_distance</th>\n",
       "      <td>846945.0</td>\n",
       "      <td>9.958211</td>\n",
       "      <td>6525.204888</td>\n",
       "      <td>0.000000</td>\n",
       "      <td>1.050000</td>\n",
       "      <td>1.800000</td>\n",
       "      <td>3.200000</td>\n",
       "      <td>6.005123e+06</td>\n",
       "    </tr>\n",
       "    <tr>\n",
       "      <th>pickup_longitude</th>\n",
       "      <td>846945.0</td>\n",
       "      <td>-73.975155</td>\n",
       "      <td>0.035142</td>\n",
       "      <td>-74.098305</td>\n",
       "      <td>-73.992371</td>\n",
       "      <td>-73.982094</td>\n",
       "      <td>-73.968048</td>\n",
       "      <td>-7.302847e+01</td>\n",
       "    </tr>\n",
       "    <tr>\n",
       "      <th>pickup_latitude</th>\n",
       "      <td>846945.0</td>\n",
       "      <td>40.750490</td>\n",
       "      <td>0.027224</td>\n",
       "      <td>40.009911</td>\n",
       "      <td>40.736031</td>\n",
       "      <td>40.752975</td>\n",
       "      <td>40.767460</td>\n",
       "      <td>4.099613e+01</td>\n",
       "    </tr>\n",
       "    <tr>\n",
       "      <th>dropoff_longitude</th>\n",
       "      <td>846945.0</td>\n",
       "      <td>-73.974197</td>\n",
       "      <td>0.033453</td>\n",
       "      <td>-74.099998</td>\n",
       "      <td>-73.991570</td>\n",
       "      <td>-73.980614</td>\n",
       "      <td>-73.965157</td>\n",
       "      <td>-7.302706e+01</td>\n",
       "    </tr>\n",
       "    <tr>\n",
       "      <th>dropoff_latitude</th>\n",
       "      <td>846945.0</td>\n",
       "      <td>40.750967</td>\n",
       "      <td>0.030766</td>\n",
       "      <td>40.009911</td>\n",
       "      <td>40.735207</td>\n",
       "      <td>40.753597</td>\n",
       "      <td>40.768227</td>\n",
       "      <td>4.099859e+01</td>\n",
       "    </tr>\n",
       "  </tbody>\n",
       "</table>\n",
       "</div>"
      ],
      "text/plain": [
       "                      count        mean           std        min         25%  \\\n",
       "rate_code          846945.0    1.026123      0.223480   0.000000    1.000000   \n",
       "passenger_count    846945.0    1.710272      1.375266   0.000000    1.000000   \n",
       "trip_time_in_secs  846945.0  812.523879  16098.305145 -10.000000  361.000000   \n",
       "trip_distance      846945.0    9.958211   6525.204888   0.000000    1.050000   \n",
       "pickup_longitude   846945.0  -73.975155      0.035142 -74.098305  -73.992371   \n",
       "pickup_latitude    846945.0   40.750490      0.027224  40.009911   40.736031   \n",
       "dropoff_longitude  846945.0  -73.974197      0.033453 -74.099998  -73.991570   \n",
       "dropoff_latitude   846945.0   40.750967      0.030766  40.009911   40.735207   \n",
       "\n",
       "                          50%         75%           max  \n",
       "rate_code            1.000000    1.000000  6.000000e+00  \n",
       "passenger_count      1.000000    2.000000  6.000000e+00  \n",
       "trip_time_in_secs  600.000000  960.000000  4.294796e+06  \n",
       "trip_distance        1.800000    3.200000  6.005123e+06  \n",
       "pickup_longitude   -73.982094  -73.968048 -7.302847e+01  \n",
       "pickup_latitude     40.752975   40.767460  4.099613e+01  \n",
       "dropoff_longitude  -73.980614  -73.965157 -7.302706e+01  \n",
       "dropoff_latitude    40.753597   40.768227  4.099859e+01  "
      ]
     },
     "execution_count": 74,
     "metadata": {},
     "output_type": "execute_result"
    }
   ],
   "source": [
    "###GET NUMERIC STATISTICS\n",
    "data.describe().transpose()\n",
    "###SOME OUTLIER CAN BE SEEN HERE\n",
    "###MAX TRIP DISTANCE 6*10^6?? THAT GUY TOOK A CAB TO MARS\n",
    "###MIN TRIP TIME AS -10?? ANOTHER TIME TRAVEL EXAMPLE\n",
    "###MAX TRIP TIME DID NOT MAKE SENSE AS WELL. MAYBE THAT GUY LIVES IN A CAB."
   ]
  },
  {
   "cell_type": "markdown",
   "metadata": {},
   "source": [
    "#### Display categorical variable frequencies"
   ]
  },
  {
   "cell_type": "code",
   "execution_count": 12,
   "metadata": {},
   "outputs": [
    {
     "name": "stdout",
     "output_type": "stream",
     "text": [
      "CMT    424678\n",
      "VTS    422267\n",
      "Name: vendor_id, dtype: int64\n",
      "N    414599\n",
      "Y      9978\n",
      "Name: store_and_fwd_flag, dtype: int64\n"
     ]
    }
   ],
   "source": [
    "###GET CATEGORICAL VARIABLE FREQUENCIES\n",
    "###I DONT THINK WE NEED TO COUNT THE MEDALLION AND LICENCE\n",
    "###NO NEED FOR DATETIME AS WELL\n",
    "print(data.vendor_id.value_counts())\n",
    "print(data.store_and_fwd_flag.value_counts())\n",
    "###LOTS OF NAN VALUE FOR store_and_fwd_flag COLUMN\n",
    "###TWO VENDORS CMT AND VTS HAVE SIMILAR AMOUNT OF RIDES"
   ]
  },
  {
   "cell_type": "markdown",
   "metadata": {},
   "source": [
    "Get the actual coordinates: four DataFrame columns\n",
    "These four variables are all Series objects:"
   ]
  },
  {
   "cell_type": "code",
   "execution_count": 13,
   "metadata": {},
   "outputs": [],
   "source": [
    "p_lng = data.pickup_longitude\n",
    "p_lat = data.pickup_latitude\n",
    "d_lng = data.dropoff_longitude\n",
    "d_lat = data.dropoff_latitude"
   ]
  },
  {
   "cell_type": "code",
   "execution_count": 14,
   "metadata": {},
   "outputs": [
    {
     "data": {
      "text/plain": [
       "0   -73.955925\n",
       "1   -74.005501\n",
       "2   -73.969955\n",
       "3   -73.991432\n",
       "4   -73.966225\n",
       "Name: pickup_longitude, dtype: float64"
      ]
     },
     "execution_count": 14,
     "metadata": {},
     "output_type": "execute_result"
    }
   ],
   "source": [
    "# a Series is an indexed list of values.\n",
    "p_lng.head()"
   ]
  },
  {
   "cell_type": "code",
   "execution_count": 15,
   "metadata": {},
   "outputs": [],
   "source": [
    "# Get the coordinates of points in pixels from geographical coordinates.\n",
    "def lat_lng_to_pixels(lat, lng):\n",
    "    lat_rad = lat * np.pi / 180.0\n",
    "    lat_rad = np.log(np.tan((lat_rad + np.pi / 2.0) / 2.0))\n",
    "    x = 100 * (lng + 180.0) / 360.0\n",
    "    y = 100 * (lat_rad - np.pi) / (2.0 * np.pi)\n",
    "    return (x, y)"
   ]
  },
  {
   "cell_type": "code",
   "execution_count": 29,
   "metadata": {},
   "outputs": [
    {
     "data": {
      "text/plain": [
       "0   -37.572749\n",
       "1   -37.586007\n",
       "2   -37.566187\n",
       "3   -37.582580\n",
       "4   -37.575746\n",
       "Name: pickup_latitude, dtype: float64"
      ]
     },
     "execution_count": 29,
     "metadata": {},
     "output_type": "execute_result"
    }
   ],
   "source": [
    "# Get pickup coordinates from pickup latitude and longitude\n",
    "px, py = lat_lng_to_pixels(p_lat, p_lng)\n",
    "py.head()"
   ]
  },
  {
   "cell_type": "markdown",
   "metadata": {},
   "source": [
    "Display a scatter plot of pickup locations\n",
    "Matplotlib scatter function makes a scatter plot of x vs y, where x and y are sequence like objects of the same\n",
    "length.\n",
    "Documentation: http://matplotlib.org/api/pyplot_api.html#matplotlib.pyplot.scatter\n",
    "(http://matplotlib.org/api/pyplot_api.html#matplotlib.pyplot.scatter)"
   ]
  },
  {
   "cell_type": "code",
   "execution_count": 47,
   "metadata": {},
   "outputs": [
    {
     "data": {
      "text/plain": [
       "<matplotlib.collections.PathCollection at 0x292a3cd28d0>"
      ]
     },
     "execution_count": 47,
     "metadata": {},
     "output_type": "execute_result"
    },
    {
     "data": {
      "image/png": "[encoded data removed]",
      "text/plain": [
       "<matplotlib.figure.Figure at 0x292a3c05828>"
      ]
     },
     "metadata": {},
     "output_type": "display_data"
    }
   ],
   "source": [
    "##Basic scatter plot\n",
    "plt.scatter(px,py)"
   ]
  },
  {
   "cell_type": "markdown",
   "metadata": {},
   "source": [
    "#### Display a scatter plot of pick up locations.  For which vendor is it easiest to find a cab?"
   ]
  },
  {
   "cell_type": "code",
   "execution_count": 57,
   "metadata": {},
   "outputs": [],
   "source": [
    "###SCATTER PLOT FOR PICK UP LOCATION BY VENDORS\n",
    "###FIRST WE COLOR CODE THE VENDOR\n",
    "color = {'VTS':'red','CMT':'blue'}"
   ]
  },
  {
   "cell_type": "code",
   "execution_count": 111,
   "metadata": {},
   "outputs": [],
   "source": [
    "data.px, data.py = lat_lng_to_pixels(data.pickup_latitude, data.pickup_longitude)"
   ]
  },
  {
   "cell_type": "code",
   "execution_count": 121,
   "metadata": {},
   "outputs": [
    {
     "data": {
      "image/png": "[encoded data removed]",
      "text/plain": [
       "<matplotlib.figure.Figure at 0x292b54369b0>"
      ]
     },
     "metadata": {},
     "output_type": "display_data"
    }
   ],
   "source": [
    "plt.scatter(data.px,data.py, c = data['vendor_id'].apply(lambda x: color[x]))\n",
    "plt.title(\"Pick up location by Vendors\")\n",
    "plt.xlabel(\"x coordinate\")\n",
    "plt.ylabel(\"y coordinate\")\n",
    "plt.show() \n",
    "####MANHATTAN IS TOO SMALL, HOW CAN WE FIGURE OUT WHERE TO CHOOSE WHICH VENDOR??"
   ]
  },
  {
   "cell_type": "markdown",
   "metadata": {},
   "source": [
    "#### Answer: It is easiest to find a cab using CMT, because CMT has a higher amounts of rides (424678) than the amounts of rides of VTS(422267).¶"
   ]
  },
  {
   "cell_type": "markdown",
   "metadata": {},
   "source": [
    "### Customize our plot:\n",
    "- Make markers smaller\n",
    "- Make fewer points by making some points transparent\n",
    "- Zoom in around Manhattan\n",
    "- Make figure bigger\n",
    "- Don't display the axes\n",
    "\n",
    "plt or matplotlib.pyplot is a collection of command style functions. Each pyplot function makes some change to\n",
    "a figure: e.g., creates a figure, creates a plotting area in a figure, plots some lines in a plotting area, decorates\n",
    "the plot with labels, etc. ..."
   ]
  },
  {
   "cell_type": "code",
   "execution_count": 117,
   "metadata": {},
   "outputs": [
    {
     "data": {
      "text/plain": [
       "(29.4, 29.55, -37.63, -37.54)"
      ]
     },
     "execution_count": 117,
     "metadata": {},
     "output_type": "execute_result"
    },
    {
     "data": {
      "image/png": "[encoded data removed]",
      "text/plain": [
       "<matplotlib.figure.Figure at 0x292acc02128>"
      ]
     },
     "metadata": {},
     "output_type": "display_data"
    }
   ],
   "source": [
    "# Specify the figure size\n",
    "plt.figure(figsize=(8, 6))\n",
    "# s argument is used to make the marker size smaller\n",
    "# alpha specifies opacity\n",
    "plt.scatter(px, py, s=.1, alpha=0.03,c= data.vendor_id.apply(lambda x: color[x]))\n",
    "# equal aspect ratio\n",
    "plt.axis('equal')\n",
    "# zoom in\n",
    "plt.xlim(29.40, 29.55)\n",
    "plt.ylim(-37.63, -37.54)\n",
    "# remove the axes\n",
    "plt.axis('off')\n",
    "###IF WE COLOR CODE THE VENDOR ON THE MAP\n",
    "###THE RED COLOR JUST OVERCAST THE BLUE COLOR\n",
    "###WHICH MEANS THAT THE PUCK UP LOCATIONS FOR VENDORS ARE SIMILAR\n",
    "###AGAIN, MAHANTTAN IS SO SMALL"
   ]
  },
  {
   "cell_type": "markdown",
   "metadata": {},
   "source": [
    "#### Display a histogram of the trip distances. What is the most common trip distance?\n",
    "pandas Series hist() draws histogram of the input Series using Matplotlib: documentation\n",
    "(http://pandas.pydata.org/pandas-docs/stable/generated/pandas.Series.hist.html).\n",
    "\n",
    "Manhattan Island is 13.4 miles long and 2.3 miles wide.\n",
    "\n",
    "What is a histogram? (https://statistics.laerd.com/statistical-guides/understanding-histograms.php)\n",
    "numpy linspace() returns evenly spaced numbers over a specified interval.\n",
    "Parameters: start - interval start; stop - interval stop; num - number of numbers. numpy linspace()\n",
    "documentation (https://docs.scipy.org/doc/numpy/reference/generated/numpy.linspace.html)\n"
   ]
  },
  {
   "cell_type": "code",
   "execution_count": 85,
   "metadata": {},
   "outputs": [],
   "source": [
    "bin_array = np.linspace(start=0., stop=15., num=150)"
   ]
  },
  {
   "cell_type": "code",
   "execution_count": 82,
   "metadata": {},
   "outputs": [
    {
     "data": {
      "text/plain": [
       "count    8.469450e+05\n",
       "mean     9.958211e+00\n",
       "std      6.525205e+03\n",
       "min      0.000000e+00\n",
       "25%      1.050000e+00\n",
       "50%      1.800000e+00\n",
       "75%      3.200000e+00\n",
       "max      6.005123e+06\n",
       "Name: trip_distance, dtype: float64"
      ]
     },
     "execution_count": 82,
     "metadata": {},
     "output_type": "execute_result"
    }
   ],
   "source": [
    "###HAVE A GLANCE OF TRIP DISTANCE\n",
    "data.trip_distance.describe()"
   ]
  },
  {
   "cell_type": "code",
   "execution_count": 104,
   "metadata": {},
   "outputs": [
    {
     "data": {
      "image/png": "[encoded data removed]",
      "text/plain": [
       "<matplotlib.figure.Figure at 0x292a479cb38>"
      ]
     },
     "metadata": {},
     "output_type": "display_data"
    }
   ],
   "source": [
    "###GET A HISTOGRAM FOR TRIP DISTANCE\n",
    "###THE INTERVAL HAS BEEN PRE SET\n",
    "data.trip_distance.hist(bins=bin_array)\n",
    "plt.title('Histogram of trip distances')\n",
    "plt.ylabel('Frequency')\n",
    "plt.xlabel('Trip distance')\n",
    "plt.show()"
   ]
  },
  {
   "cell_type": "markdown",
   "metadata": {},
   "source": [
    "#### From the above graph, we know the most common trip distance is about 1 mile. The histogram above is heavily skewed to the right, with most trip distance centered around 0-4 miles. And there is no trip distance larger than 15 miles in the dataset. "
   ]
  },
  {
   "cell_type": "markdown",
   "metadata": {},
   "source": [
    "#### Display a histogram of the fare total amounts. What can you say about the data?"
   ]
  },
  {
   "cell_type": "code",
   "execution_count": 93,
   "metadata": {},
   "outputs": [],
   "source": [
    "###GRAPH A HISTOGRAM FOR THE FARE TOTAL AMOUNTS\n",
    "###GET FARE DATA FIRST\n",
    "fare= pd.read_csv('nyc_fare.csv',parse_dates=['pickup_datetime'] ,engine = 'python')"
   ]
  },
  {
   "cell_type": "code",
   "execution_count": 94,
   "metadata": {},
   "outputs": [
    {
     "name": "stdout",
     "output_type": "stream",
     "text": [
      "<class 'pandas.core.frame.DataFrame'>\n",
      "RangeIndex: 846945 entries, 0 to 846944\n",
      "Data columns (total 11 columns):\n",
      "medallion          846945 non-null object\n",
      "hack_license       846945 non-null object\n",
      "vendor_id          846945 non-null object\n",
      "pickup_datetime    846945 non-null datetime64[ns]\n",
      "payment_type       846945 non-null object\n",
      "fare_amount        846945 non-null float64\n",
      "surcharge          846945 non-null float64\n",
      "mta_tax            846945 non-null float64\n",
      "tip_amount         846945 non-null float64\n",
      "tolls_amount       846945 non-null float64\n",
      "total_amount       846945 non-null float64\n",
      "dtypes: datetime64[ns](1), float64(6), object(4)\n",
      "memory usage: 71.1+ MB\n"
     ]
    }
   ],
   "source": [
    "##GET INFO\n",
    "fare.info()"
   ]
  },
  {
   "cell_type": "code",
   "execution_count": 91,
   "metadata": {},
   "outputs": [
    {
     "data": {
      "text/html": [
       "<div>\n",
       "<style scoped>\n",
       "    .dataframe tbody tr th:only-of-type {\n",
       "        vertical-align: middle;\n",
       "    }\n",
       "\n",
       "    .dataframe tbody tr th {\n",
       "        vertical-align: top;\n",
       "    }\n",
       "\n",
       "    .dataframe thead th {\n",
       "        text-align: right;\n",
       "    }\n",
       "</style>\n",
       "<table border=\"1\" class=\"dataframe\">\n",
       "  <thead>\n",
       "    <tr style=\"text-align: right;\">\n",
       "      <th></th>\n",
       "      <th>medallion</th>\n",
       "      <th>hack_license</th>\n",
       "      <th>vendor_id</th>\n",
       "      <th>pickup_datetime</th>\n",
       "      <th>payment_type</th>\n",
       "      <th>fare_amount</th>\n",
       "      <th>surcharge</th>\n",
       "      <th>mta_tax</th>\n",
       "      <th>tip_amount</th>\n",
       "      <th>tolls_amount</th>\n",
       "      <th>total_amount</th>\n",
       "    </tr>\n",
       "  </thead>\n",
       "  <tbody>\n",
       "    <tr>\n",
       "      <th>0</th>\n",
       "      <td>76942C3205E17D7E7FE5A9F709D16434</td>\n",
       "      <td>25BA06A87905667AA1FE5990E33F0E2E</td>\n",
       "      <td>VTS</td>\n",
       "      <td>2013-01-01 00:00:00</td>\n",
       "      <td>CSH</td>\n",
       "      <td>5.0</td>\n",
       "      <td>0.5</td>\n",
       "      <td>0.5</td>\n",
       "      <td>0.0</td>\n",
       "      <td>0.0</td>\n",
       "      <td>6.0</td>\n",
       "    </tr>\n",
       "    <tr>\n",
       "      <th>1</th>\n",
       "      <td>517C6B330DBB3F055D007B07512628B3</td>\n",
       "      <td>2C19FBEE1A6E05612EFE4C958C14BC7F</td>\n",
       "      <td>VTS</td>\n",
       "      <td>2013-01-01 00:05:00</td>\n",
       "      <td>CRD</td>\n",
       "      <td>13.5</td>\n",
       "      <td>0.5</td>\n",
       "      <td>0.5</td>\n",
       "      <td>2.8</td>\n",
       "      <td>0.0</td>\n",
       "      <td>17.3</td>\n",
       "    </tr>\n",
       "    <tr>\n",
       "      <th>2</th>\n",
       "      <td>ED15611F168E41B33619C83D900FE266</td>\n",
       "      <td>754AEBD7C80DA17BA1D81D89FB6F4D1D</td>\n",
       "      <td>CMT</td>\n",
       "      <td>2013-01-01 00:05:52</td>\n",
       "      <td>CSH</td>\n",
       "      <td>7.5</td>\n",
       "      <td>0.5</td>\n",
       "      <td>0.5</td>\n",
       "      <td>0.0</td>\n",
       "      <td>0.0</td>\n",
       "      <td>8.5</td>\n",
       "    </tr>\n",
       "    <tr>\n",
       "      <th>3</th>\n",
       "      <td>B33E704CC189E80C9671230C16527BBC</td>\n",
       "      <td>6789C77E1CBDC850C450D72204702976</td>\n",
       "      <td>VTS</td>\n",
       "      <td>2013-01-01 00:06:00</td>\n",
       "      <td>CSH</td>\n",
       "      <td>2.5</td>\n",
       "      <td>0.5</td>\n",
       "      <td>0.5</td>\n",
       "      <td>0.0</td>\n",
       "      <td>0.0</td>\n",
       "      <td>3.5</td>\n",
       "    </tr>\n",
       "    <tr>\n",
       "      <th>4</th>\n",
       "      <td>BD5CC6A22D05EB2D5C8235526A2A4276</td>\n",
       "      <td>5E8F2C93B5220A922699FEBAFC2F7A54</td>\n",
       "      <td>VTS</td>\n",
       "      <td>2013-01-01 00:06:00</td>\n",
       "      <td>CSH</td>\n",
       "      <td>6.5</td>\n",
       "      <td>0.5</td>\n",
       "      <td>0.5</td>\n",
       "      <td>0.0</td>\n",
       "      <td>0.0</td>\n",
       "      <td>7.5</td>\n",
       "    </tr>\n",
       "  </tbody>\n",
       "</table>\n",
       "</div>"
      ],
      "text/plain": [
       "                          medallion                      hack_license  \\\n",
       "0  76942C3205E17D7E7FE5A9F709D16434  25BA06A87905667AA1FE5990E33F0E2E   \n",
       "1  517C6B330DBB3F055D007B07512628B3  2C19FBEE1A6E05612EFE4C958C14BC7F   \n",
       "2  ED15611F168E41B33619C83D900FE266  754AEBD7C80DA17BA1D81D89FB6F4D1D   \n",
       "3  B33E704CC189E80C9671230C16527BBC  6789C77E1CBDC850C450D72204702976   \n",
       "4  BD5CC6A22D05EB2D5C8235526A2A4276  5E8F2C93B5220A922699FEBAFC2F7A54   \n",
       "\n",
       "  vendor_id     pickup_datetime payment_type  fare_amount  surcharge  mta_tax  \\\n",
       "0       VTS 2013-01-01 00:00:00          CSH          5.0        0.5      0.5   \n",
       "1       VTS 2013-01-01 00:05:00          CRD         13.5        0.5      0.5   \n",
       "2       CMT 2013-01-01 00:05:52          CSH          7.5        0.5      0.5   \n",
       "3       VTS 2013-01-01 00:06:00          CSH          2.5        0.5      0.5   \n",
       "4       VTS 2013-01-01 00:06:00          CSH          6.5        0.5      0.5   \n",
       "\n",
       "   tip_amount  tolls_amount  total_amount  \n",
       "0         0.0           0.0           6.0  \n",
       "1         2.8           0.0          17.3  \n",
       "2         0.0           0.0           8.5  \n",
       "3         0.0           0.0           3.5  \n",
       "4         0.0           0.0           7.5  "
      ]
     },
     "execution_count": 91,
     "metadata": {},
     "output_type": "execute_result"
    }
   ],
   "source": [
    "###INSPECT DATA\n",
    "fare.head()"
   ]
  },
  {
   "cell_type": "code",
   "execution_count": 92,
   "metadata": {},
   "outputs": [
    {
     "data": {
      "text/html": [
       "<div>\n",
       "<style scoped>\n",
       "    .dataframe tbody tr th:only-of-type {\n",
       "        vertical-align: middle;\n",
       "    }\n",
       "\n",
       "    .dataframe tbody tr th {\n",
       "        vertical-align: top;\n",
       "    }\n",
       "\n",
       "    .dataframe thead th {\n",
       "        text-align: right;\n",
       "    }\n",
       "</style>\n",
       "<table border=\"1\" class=\"dataframe\">\n",
       "  <thead>\n",
       "    <tr style=\"text-align: right;\">\n",
       "      <th></th>\n",
       "      <th>count</th>\n",
       "      <th>mean</th>\n",
       "      <th>std</th>\n",
       "      <th>min</th>\n",
       "      <th>25%</th>\n",
       "      <th>50%</th>\n",
       "      <th>75%</th>\n",
       "      <th>max</th>\n",
       "    </tr>\n",
       "  </thead>\n",
       "  <tbody>\n",
       "    <tr>\n",
       "      <th>fare_amount</th>\n",
       "      <td>846945.0</td>\n",
       "      <td>12.190578</td>\n",
       "      <td>9.514150</td>\n",
       "      <td>-648.42</td>\n",
       "      <td>6.5</td>\n",
       "      <td>9.5</td>\n",
       "      <td>14.0</td>\n",
       "      <td>620.01</td>\n",
       "    </tr>\n",
       "    <tr>\n",
       "      <th>surcharge</th>\n",
       "      <td>846945.0</td>\n",
       "      <td>0.320303</td>\n",
       "      <td>0.772642</td>\n",
       "      <td>-1.00</td>\n",
       "      <td>0.0</td>\n",
       "      <td>0.0</td>\n",
       "      <td>0.5</td>\n",
       "      <td>628.84</td>\n",
       "    </tr>\n",
       "    <tr>\n",
       "      <th>mta_tax</th>\n",
       "      <td>846945.0</td>\n",
       "      <td>0.499305</td>\n",
       "      <td>0.057844</td>\n",
       "      <td>-0.50</td>\n",
       "      <td>0.5</td>\n",
       "      <td>0.5</td>\n",
       "      <td>0.5</td>\n",
       "      <td>41.49</td>\n",
       "    </tr>\n",
       "    <tr>\n",
       "      <th>tip_amount</th>\n",
       "      <td>846945.0</td>\n",
       "      <td>1.344660</td>\n",
       "      <td>2.091490</td>\n",
       "      <td>0.00</td>\n",
       "      <td>0.0</td>\n",
       "      <td>1.0</td>\n",
       "      <td>2.0</td>\n",
       "      <td>200.00</td>\n",
       "    </tr>\n",
       "    <tr>\n",
       "      <th>tolls_amount</th>\n",
       "      <td>846945.0</td>\n",
       "      <td>0.232142</td>\n",
       "      <td>1.109164</td>\n",
       "      <td>0.00</td>\n",
       "      <td>0.0</td>\n",
       "      <td>0.0</td>\n",
       "      <td>0.0</td>\n",
       "      <td>100.66</td>\n",
       "    </tr>\n",
       "    <tr>\n",
       "      <th>total_amount</th>\n",
       "      <td>846945.0</td>\n",
       "      <td>14.587073</td>\n",
       "      <td>11.380950</td>\n",
       "      <td>-52.50</td>\n",
       "      <td>8.0</td>\n",
       "      <td>11.0</td>\n",
       "      <td>16.5</td>\n",
       "      <td>620.01</td>\n",
       "    </tr>\n",
       "  </tbody>\n",
       "</table>\n",
       "</div>"
      ],
      "text/plain": [
       "                 count       mean        std     min  25%   50%   75%     max\n",
       "fare_amount   846945.0  12.190578   9.514150 -648.42  6.5   9.5  14.0  620.01\n",
       "surcharge     846945.0   0.320303   0.772642   -1.00  0.0   0.0   0.5  628.84\n",
       "mta_tax       846945.0   0.499305   0.057844   -0.50  0.5   0.5   0.5   41.49\n",
       "tip_amount    846945.0   1.344660   2.091490    0.00  0.0   1.0   2.0  200.00\n",
       "tolls_amount  846945.0   0.232142   1.109164    0.00  0.0   0.0   0.0  100.66\n",
       "total_amount  846945.0  14.587073  11.380950  -52.50  8.0  11.0  16.5  620.01"
      ]
     },
     "execution_count": 92,
     "metadata": {},
     "output_type": "execute_result"
    }
   ],
   "source": [
    "##INSPECT STATS\n",
    "fare.describe().transpose()\n",
    "###WE CAN SEE MAX FARE MOUNT IS 620 AND MIN IS -52\n",
    "##WE DONOT KNOW WHAT HAPPENED WITH THOSE RIDES"
   ]
  },
  {
   "cell_type": "code",
   "execution_count": 100,
   "metadata": {},
   "outputs": [
    {
     "name": "stdout",
     "output_type": "stream",
     "text": [
      "count     846945\n",
      "unique         2\n",
      "top          CMT\n",
      "freq      424678\n",
      "Name: vendor_id, dtype: object CMT    424678\n",
      "VTS    422267\n",
      "Name: vendor_id, dtype: int64\n",
      "count     846945\n",
      "unique         5\n",
      "top          CRD\n",
      "freq      456019\n",
      "Name: payment_type, dtype: object CRD    456019\n",
      "CSH    387455\n",
      "NOC      1921\n",
      "UNK       984\n",
      "DIS       566\n",
      "Name: payment_type, dtype: int64\n"
     ]
    }
   ],
   "source": [
    "##CHECK CATEGORICAL VARIABLES\n",
    "print(fare.vendor_id.describe(),fare.vendor_id.value_counts())\n",
    "print(fare.payment_type.describe(),fare.payment_type.value_counts())"
   ]
  },
  {
   "cell_type": "code",
   "execution_count": 103,
   "metadata": {},
   "outputs": [
    {
     "data": {
      "image/png": "[encoded data removed]",
      "text/plain": [
       "<matplotlib.figure.Figure at 0x292a3ec9ef0>"
      ]
     },
     "metadata": {},
     "output_type": "display_data"
    }
   ],
   "source": [
    "##GRAPH HISTOGRAM FOR FARE\n",
    "##FOR GRAPH WE BASE ON MEAN AND STD\n",
    "##PERSONALLY I THINK THE RANGE OF 3STD IS LARGE ENOUGH\n",
    "fare.total_amount.hist(bins= np.linspace(start=0., stop=50, num=100))\n",
    "plt.title('Histogram of total fare amount')\n",
    "plt.ylabel('Frequency')\n",
    "plt.xlabel('Fare amount')\n",
    "plt.show()\n"
   ]
  },
  {
   "cell_type": "markdown",
   "metadata": {},
   "source": [
    "#### The fare amount histogram above shows that the total fare of trips is skewed to the right, with most fare amount concentrates in the range between 5-20 USD. The most frequent fare amount is 9 USD. "
   ]
  },
  {
   "cell_type": "markdown",
   "metadata": {},
   "source": [
    "#### How many unusually long trips (of greater than 100 miles) do you see?"
   ]
  },
  {
   "cell_type": "code",
   "execution_count": 109,
   "metadata": {},
   "outputs": [
    {
     "data": {
      "text/plain": [
       "count    8.469450e+05\n",
       "mean     9.958211e+00\n",
       "std      6.525205e+03\n",
       "min      0.000000e+00\n",
       "25%      1.050000e+00\n",
       "50%      1.800000e+00\n",
       "75%      3.200000e+00\n",
       "max      6.005123e+06\n",
       "Name: trip_distance, dtype: float64"
      ]
     },
     "execution_count": 109,
     "metadata": {},
     "output_type": "execute_result"
    }
   ],
   "source": [
    "data.trip_distance.describe()"
   ]
  },
  {
   "cell_type": "code",
   "execution_count": 110,
   "metadata": {},
   "outputs": [
    {
     "data": {
      "text/html": [
       "<div>\n",
       "<style scoped>\n",
       "    .dataframe tbody tr th:only-of-type {\n",
       "        vertical-align: middle;\n",
       "    }\n",
       "\n",
       "    .dataframe tbody tr th {\n",
       "        vertical-align: top;\n",
       "    }\n",
       "\n",
       "    .dataframe thead th {\n",
       "        text-align: right;\n",
       "    }\n",
       "</style>\n",
       "<table border=\"1\" class=\"dataframe\">\n",
       "  <thead>\n",
       "    <tr style=\"text-align: right;\">\n",
       "      <th></th>\n",
       "      <th>medallion</th>\n",
       "      <th>hack_license</th>\n",
       "      <th>vendor_id</th>\n",
       "      <th>rate_code</th>\n",
       "      <th>store_and_fwd_flag</th>\n",
       "      <th>pickup_datetime</th>\n",
       "      <th>dropoff_datetime</th>\n",
       "      <th>passenger_count</th>\n",
       "      <th>trip_time_in_secs</th>\n",
       "      <th>trip_distance</th>\n",
       "      <th>pickup_longitude</th>\n",
       "      <th>pickup_latitude</th>\n",
       "      <th>dropoff_longitude</th>\n",
       "      <th>dropoff_latitude</th>\n",
       "    </tr>\n",
       "  </thead>\n",
       "  <tbody>\n",
       "    <tr>\n",
       "      <th>504497</th>\n",
       "      <td>7237EC7ABD6114EDDC87A3AA846F8418</td>\n",
       "      <td>D52502537E2DF62C9BFFECF5A387E7E9</td>\n",
       "      <td>CMT</td>\n",
       "      <td>1</td>\n",
       "      <td>N</td>\n",
       "      <td>2013-08-02 11:22:31</td>\n",
       "      <td>2013-08-02 11:33:03</td>\n",
       "      <td>1</td>\n",
       "      <td>631</td>\n",
       "      <td>6005123.0</td>\n",
       "      <td>-73.997467</td>\n",
       "      <td>40.736397</td>\n",
       "      <td>-73.991882</td>\n",
       "      <td>40.764629</td>\n",
       "    </tr>\n",
       "    <tr>\n",
       "      <th>507107</th>\n",
       "      <td>50DA72F510E2F84A42712E13744FAC7B</td>\n",
       "      <td>EA9D03A766C1D32A6668FFF0C1EB4E4B</td>\n",
       "      <td>CMT</td>\n",
       "      <td>1</td>\n",
       "      <td>N</td>\n",
       "      <td>2013-08-04 18:42:17</td>\n",
       "      <td>2013-08-04 20:37:19</td>\n",
       "      <td>3</td>\n",
       "      <td>4290965</td>\n",
       "      <td>181.8</td>\n",
       "      <td>-73.978020</td>\n",
       "      <td>40.765167</td>\n",
       "      <td>-73.815041</td>\n",
       "      <td>40.730076</td>\n",
       "    </tr>\n",
       "    <tr>\n",
       "      <th>548988</th>\n",
       "      <td>A978A0AAE9B2CFEE310FACD97A09C319</td>\n",
       "      <td>CE56A27F53ABF411094B6CD708BFBA96</td>\n",
       "      <td>CMT</td>\n",
       "      <td>1</td>\n",
       "      <td>N</td>\n",
       "      <td>2013-08-24 17:03:27</td>\n",
       "      <td>2013-08-24 17:03:29</td>\n",
       "      <td>1</td>\n",
       "      <td>1</td>\n",
       "      <td>442.0</td>\n",
       "      <td>-73.993896</td>\n",
       "      <td>40.702644</td>\n",
       "      <td>-73.993874</td>\n",
       "      <td>40.702637</td>\n",
       "    </tr>\n",
       "    <tr>\n",
       "      <th>558665</th>\n",
       "      <td>5A5C516A820FE476E9D3E14101B669AC</td>\n",
       "      <td>C24585AA866FC76A4E09A05F55DC7E54</td>\n",
       "      <td>CMT</td>\n",
       "      <td>2</td>\n",
       "      <td>N</td>\n",
       "      <td>2013-08-29 10:01:40</td>\n",
       "      <td>2013-08-29 11:52:20</td>\n",
       "      <td>1</td>\n",
       "      <td>6640</td>\n",
       "      <td>164.4</td>\n",
       "      <td>-73.791534</td>\n",
       "      <td>40.661026</td>\n",
       "      <td>-73.983734</td>\n",
       "      <td>40.765778</td>\n",
       "    </tr>\n",
       "  </tbody>\n",
       "</table>\n",
       "</div>"
      ],
      "text/plain": [
       "                               medallion                      hack_license  \\\n",
       "504497  7237EC7ABD6114EDDC87A3AA846F8418  D52502537E2DF62C9BFFECF5A387E7E9   \n",
       "507107  50DA72F510E2F84A42712E13744FAC7B  EA9D03A766C1D32A6668FFF0C1EB4E4B   \n",
       "548988  A978A0AAE9B2CFEE310FACD97A09C319  CE56A27F53ABF411094B6CD708BFBA96   \n",
       "558665  5A5C516A820FE476E9D3E14101B669AC  C24585AA866FC76A4E09A05F55DC7E54   \n",
       "\n",
       "       vendor_id  rate_code store_and_fwd_flag     pickup_datetime  \\\n",
       "504497       CMT          1                  N 2013-08-02 11:22:31   \n",
       "507107       CMT          1                  N 2013-08-04 18:42:17   \n",
       "548988       CMT          1                  N 2013-08-24 17:03:27   \n",
       "558665       CMT          2                  N 2013-08-29 10:01:40   \n",
       "\n",
       "          dropoff_datetime  passenger_count  trip_time_in_secs  trip_distance  \\\n",
       "504497 2013-08-02 11:33:03                1                631      6005123.0   \n",
       "507107 2013-08-04 20:37:19                3            4290965          181.8   \n",
       "548988 2013-08-24 17:03:29                1                  1          442.0   \n",
       "558665 2013-08-29 11:52:20                1               6640          164.4   \n",
       "\n",
       "        pickup_longitude  pickup_latitude  dropoff_longitude  dropoff_latitude  \n",
       "504497        -73.997467        40.736397         -73.991882         40.764629  \n",
       "507107        -73.978020        40.765167         -73.815041         40.730076  \n",
       "548988        -73.993896        40.702644         -73.993874         40.702637  \n",
       "558665        -73.791534        40.661026         -73.983734         40.765778  "
      ]
     },
     "execution_count": 110,
     "metadata": {},
     "output_type": "execute_result"
    }
   ],
   "source": [
    "data[data.trip_distance >100]"
   ]
  },
  {
   "cell_type": "markdown",
   "metadata": {},
   "source": [
    "#### There are four unusually long trips which are greater than 100 miles. In the first record, the trip distance is too long, which we think might be an error. In the second record, the trip time is too long compared to the trip distance. In the third record, the trip time is only 1 second with 442 miles, so we think it might also be an error. In the forth record, nothing is suspicious at a glance.  "
   ]
  },
  {
   "cell_type": "markdown",
   "metadata": {},
   "source": [
    "## Filtering with boolean indexing\n",
    "### Select long rides"
   ]
  },
  {
   "cell_type": "markdown",
   "metadata": {},
   "source": [
    "data.loc[data.trip_distance > 100]"
   ]
  },
  {
   "cell_type": "code",
   "execution_count": null,
   "metadata": {
    "collapsed": true
   },
   "outputs": [],
   "source": [
    "#End"
   ]
  }
 ],
 "metadata": {
  "kernelspec": {
   "display_name": "Python 3",
   "language": "python",
   "name": "python3"
  },
  "language_info": {
   "codemirror_mode": {
    "name": "ipython",
    "version": 3
   },
   "file_extension": ".py",
   "mimetype": "text/x-python",
   "name": "python",
   "nbconvert_exporter": "python",
   "pygments_lexer": "ipython3",
   "version": "3.7.3"
  }
 },
 "nbformat": 4,
 "nbformat_minor": 2
}
